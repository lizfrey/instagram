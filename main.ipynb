{
 "cells": [
  {
   "cell_type": "code",
   "execution_count": null,
   "metadata": {},
   "outputs": [],
   "source": [
    "%pip install -r requirements.txt"
   ]
  },
  {
   "cell_type": "code",
   "execution_count": null,
   "metadata": {},
   "outputs": [],
   "source": [
    "import os\n",
    "from dotenv import load_dotenv\n",
    "\n",
    "load_dotenv()\n",
    "\n",
    "username = os.getenv('USERNAME')\n",
    "password = os.getenv('PASSWORD')"
   ]
  },
  {
   "cell_type": "code",
   "execution_count": null,
   "metadata": {},
   "outputs": [],
   "source": [
    "# Get instance\n",
    "import instaloader\n",
    "\n",
    "L = instaloader.Instaloader()\n",
    "\n",
    "# Login or load session\n",
    "L.login(username, password)  # (login)\n",
    "\n",
    "# Obtain profile metadata\n",
    "profile = instaloader.Profile.from_username(L.context, username)"
   ]
  },
  {
   "cell_type": "code",
   "execution_count": null,
   "metadata": {},
   "outputs": [],
   "source": [
    "# Get list of followers\n",
    "following_list = []\n",
    "for following in profile.get_followees():\n",
    "    following_list.append(following.username)\n",
    "\n",
    "# Get list of followers\n",
    "follower_list = []\n",
    "for follower in profile.get_followers():\n",
    "    follower_list.append(follower.username)\n",
    "\n",
    "print('Following', len(following_list))\n",
    "print('Followers', len(follower_list))"
   ]
  },
  {
   "cell_type": "code",
   "execution_count": null,
   "metadata": {},
   "outputs": [],
   "source": [
    "# Get list of followers that don't follow back\n",
    "not_following_back = []\n",
    "for following in following_list:\n",
    "    if following not in follower_list:\n",
    "        not_following_back.append(following)\n",
    "\n",
    "print('Not following back', len(not_following_back))\n",
    "print(not_following_back)"
   ]
  },
  {
   "cell_type": "code",
   "execution_count": null,
   "metadata": {},
   "outputs": [],
   "source": [
    "# Get list of posts\n",
    "post_list = []\n",
    "for post in profile.get_posts():\n",
    "    post_list.append(post)\n",
    "\n",
    "print('Posts', len(post_list))"
   ]
  },
  {
   "cell_type": "code",
   "execution_count": null,
   "metadata": {},
   "outputs": [],
   "source": [
    "# Get posts from last 2 years\n",
    "import datetime\n",
    "from datetime import date\n",
    "\n",
    "today = date.today()\n",
    "two_years_ago = today - datetime.timedelta(days=730)\n",
    "\n",
    "recent_post_list = []\n",
    "for post in profile.get_posts():\n",
    "    if post.date.date() > two_years_ago:\n",
    "        recent_post_list.append(post)\n",
    "\n",
    "print('Recent posts', len(recent_post_list))"
   ]
  },
  {
   "cell_type": "code",
   "execution_count": null,
   "metadata": {},
   "outputs": [],
   "source": [
    "# Get likes from recent posts\n",
    "\n",
    "likes_list = []\n",
    "for post in recent_post_list:\n",
    "    likes = post.get_likes()\n",
    "    for like in likes:\n",
    "        likes_list.append(like.username)\n",
    "\n",
    "print('Likes', len(likes_list))"
   ]
  },
  {
   "cell_type": "code",
   "execution_count": null,
   "metadata": {},
   "outputs": [],
   "source": [
    "# Get list of people who haven't liked any recent posts\n",
    "\n",
    "not_liked_list = []\n",
    "for following in following_list:\n",
    "    if following not in likes_list:\n",
    "        not_liked_list.append(following)"
   ]
  },
  {
   "cell_type": "code",
   "execution_count": null,
   "metadata": {},
   "outputs": [],
   "source": [
    "print('Not liked', len(not_liked_list))\n",
    "print(not_liked_list)"
   ]
  }
 ],
 "metadata": {
  "kernelspec": {
   "display_name": "Python 3",
   "language": "python",
   "name": "python3"
  },
  "language_info": {
   "codemirror_mode": {
    "name": "ipython",
    "version": 3
   },
   "file_extension": ".py",
   "mimetype": "text/x-python",
   "name": "python",
   "nbconvert_exporter": "python",
   "pygments_lexer": "ipython3",
   "version": "3.11.5"
  }
 },
 "nbformat": 4,
 "nbformat_minor": 2
}
